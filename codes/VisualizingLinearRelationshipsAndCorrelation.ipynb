{
 "cells": [
  {
   "cell_type": "code",
   "execution_count": 1,
   "metadata": {},
   "outputs": [],
   "source": [
    "import numpy as np\n",
    "import pandas as pd\n",
    "import matplotlib.pyplot as plt\n",
    "\n",
    "from scipy.stats import pearsonr, spearmanr"
   ]
  },
  {
   "cell_type": "code",
   "execution_count": 2,
   "metadata": {},
   "outputs": [
    {
     "data": {
      "text/html": [
       "<div>\n",
       "<style scoped>\n",
       "    .dataframe tbody tr th:only-of-type {\n",
       "        vertical-align: middle;\n",
       "    }\n",
       "\n",
       "    .dataframe tbody tr th {\n",
       "        vertical-align: top;\n",
       "    }\n",
       "\n",
       "    .dataframe thead th {\n",
       "        text-align: right;\n",
       "    }\n",
       "</style>\n",
       "<table border=\"1\" class=\"dataframe\">\n",
       "  <thead>\n",
       "    <tr style=\"text-align: right;\">\n",
       "      <th></th>\n",
       "      <th>dteday</th>\n",
       "      <th>season</th>\n",
       "      <th>yr</th>\n",
       "      <th>mnth</th>\n",
       "      <th>holiday</th>\n",
       "      <th>weekday</th>\n",
       "      <th>workingday</th>\n",
       "      <th>weathersit</th>\n",
       "      <th>temp</th>\n",
       "      <th>atemp</th>\n",
       "      <th>hum</th>\n",
       "      <th>windspeed</th>\n",
       "      <th>casual</th>\n",
       "      <th>registered</th>\n",
       "      <th>cnt</th>\n",
       "    </tr>\n",
       "    <tr>\n",
       "      <th>instant</th>\n",
       "      <th></th>\n",
       "      <th></th>\n",
       "      <th></th>\n",
       "      <th></th>\n",
       "      <th></th>\n",
       "      <th></th>\n",
       "      <th></th>\n",
       "      <th></th>\n",
       "      <th></th>\n",
       "      <th></th>\n",
       "      <th></th>\n",
       "      <th></th>\n",
       "      <th></th>\n",
       "      <th></th>\n",
       "      <th></th>\n",
       "    </tr>\n",
       "  </thead>\n",
       "  <tbody>\n",
       "    <tr>\n",
       "      <th>1</th>\n",
       "      <td>2011-01-01</td>\n",
       "      <td>1</td>\n",
       "      <td>0</td>\n",
       "      <td>1</td>\n",
       "      <td>0</td>\n",
       "      <td>6</td>\n",
       "      <td>0</td>\n",
       "      <td>2</td>\n",
       "      <td>0.344167</td>\n",
       "      <td>0.363625</td>\n",
       "      <td>0.805833</td>\n",
       "      <td>0.160446</td>\n",
       "      <td>331</td>\n",
       "      <td>654</td>\n",
       "      <td>985</td>\n",
       "    </tr>\n",
       "    <tr>\n",
       "      <th>2</th>\n",
       "      <td>2011-01-02</td>\n",
       "      <td>1</td>\n",
       "      <td>0</td>\n",
       "      <td>1</td>\n",
       "      <td>0</td>\n",
       "      <td>0</td>\n",
       "      <td>0</td>\n",
       "      <td>2</td>\n",
       "      <td>0.363478</td>\n",
       "      <td>0.353739</td>\n",
       "      <td>0.696087</td>\n",
       "      <td>0.248539</td>\n",
       "      <td>131</td>\n",
       "      <td>670</td>\n",
       "      <td>801</td>\n",
       "    </tr>\n",
       "    <tr>\n",
       "      <th>3</th>\n",
       "      <td>2011-01-03</td>\n",
       "      <td>1</td>\n",
       "      <td>0</td>\n",
       "      <td>1</td>\n",
       "      <td>0</td>\n",
       "      <td>1</td>\n",
       "      <td>1</td>\n",
       "      <td>1</td>\n",
       "      <td>0.196364</td>\n",
       "      <td>0.189405</td>\n",
       "      <td>0.437273</td>\n",
       "      <td>0.248309</td>\n",
       "      <td>120</td>\n",
       "      <td>1229</td>\n",
       "      <td>1349</td>\n",
       "    </tr>\n",
       "    <tr>\n",
       "      <th>4</th>\n",
       "      <td>2011-01-04</td>\n",
       "      <td>1</td>\n",
       "      <td>0</td>\n",
       "      <td>1</td>\n",
       "      <td>0</td>\n",
       "      <td>2</td>\n",
       "      <td>1</td>\n",
       "      <td>1</td>\n",
       "      <td>0.200000</td>\n",
       "      <td>0.212122</td>\n",
       "      <td>0.590435</td>\n",
       "      <td>0.160296</td>\n",
       "      <td>108</td>\n",
       "      <td>1454</td>\n",
       "      <td>1562</td>\n",
       "    </tr>\n",
       "    <tr>\n",
       "      <th>5</th>\n",
       "      <td>2011-01-05</td>\n",
       "      <td>1</td>\n",
       "      <td>0</td>\n",
       "      <td>1</td>\n",
       "      <td>0</td>\n",
       "      <td>3</td>\n",
       "      <td>1</td>\n",
       "      <td>1</td>\n",
       "      <td>0.226957</td>\n",
       "      <td>0.229270</td>\n",
       "      <td>0.436957</td>\n",
       "      <td>0.186900</td>\n",
       "      <td>82</td>\n",
       "      <td>1518</td>\n",
       "      <td>1600</td>\n",
       "    </tr>\n",
       "  </tbody>\n",
       "</table>\n",
       "</div>"
      ],
      "text/plain": [
       "             dteday  season  yr  mnth  holiday  weekday  workingday  \\\n",
       "instant                                                               \n",
       "1        2011-01-01       1   0     1        0        6           0   \n",
       "2        2011-01-02       1   0     1        0        0           0   \n",
       "3        2011-01-03       1   0     1        0        1           1   \n",
       "4        2011-01-04       1   0     1        0        2           1   \n",
       "5        2011-01-05       1   0     1        0        3           1   \n",
       "\n",
       "         weathersit      temp     atemp       hum  windspeed  casual  \\\n",
       "instant                                                                \n",
       "1                 2  0.344167  0.363625  0.805833   0.160446     331   \n",
       "2                 2  0.363478  0.353739  0.696087   0.248539     131   \n",
       "3                 1  0.196364  0.189405  0.437273   0.248309     120   \n",
       "4                 1  0.200000  0.212122  0.590435   0.160296     108   \n",
       "5                 1  0.226957  0.229270  0.436957   0.186900      82   \n",
       "\n",
       "         registered   cnt  \n",
       "instant                    \n",
       "1               654   985  \n",
       "2               670   801  \n",
       "3              1229  1349  \n",
       "4              1454  1562  \n",
       "5              1518  1600  "
      ]
     },
     "execution_count": 2,
     "metadata": {},
     "output_type": "execute_result"
    }
   ],
   "source": [
    "bikesharing_data = pd.read_csv('../datasets/bike_sharing_daily.csv', index_col=0)\n",
    "bikesharing_data.head(5)"
   ]
  },
  {
   "cell_type": "code",
   "execution_count": 3,
   "metadata": {},
   "outputs": [
    {
     "data": {
      "text/plain": [
       "(731, 15)"
      ]
     },
     "execution_count": 3,
     "metadata": {},
     "output_type": "execute_result"
    }
   ],
   "source": [
    "bikesharing_data.shape"
   ]
  },
  {
   "cell_type": "code",
   "execution_count": 4,
   "metadata": {},
   "outputs": [
    {
     "data": {
      "text/plain": [
       "Index(['dteday', 'season', 'yr', 'mnth', 'holiday', 'weekday', 'workingday',\n",
       "       'weathersit', 'temp', 'atemp', 'hum', 'windspeed', 'casual',\n",
       "       'registered', 'cnt'],\n",
       "      dtype='object')"
      ]
     },
     "execution_count": 4,
     "metadata": {},
     "output_type": "execute_result"
    }
   ],
   "source": [
    "bikesharing_data.columns"
   ]
  },
  {
   "cell_type": "code",
   "execution_count": 5,
   "metadata": {},
   "outputs": [],
   "source": [
    "bikesharing_data['dteday'] = pd.DatetimeIndex(bikesharing_data['dteday'])"
   ]
  },
  {
   "cell_type": "code",
   "execution_count": 7,
   "metadata": {},
   "outputs": [
    {
     "data": {
      "text/plain": [
       "array([[1.        , 0.62749401],\n",
       "       [0.62749401, 1.        ]])"
      ]
     },
     "execution_count": 7,
     "metadata": {},
     "output_type": "execute_result"
    }
   ],
   "source": [
    "np.corrcoef(bikesharing_data['temp'],\n",
    "            bikesharing_data['cnt'])"
   ]
  },
  {
   "cell_type": "code",
   "execution_count": 8,
   "metadata": {},
   "outputs": [
    {
     "data": {
      "text/plain": [
       "0.6274940090334918"
      ]
     },
     "execution_count": 8,
     "metadata": {},
     "output_type": "execute_result"
    }
   ],
   "source": [
    "bikesharing_data['temp'].corr(bikesharing_data['cnt'])"
   ]
  },
  {
   "cell_type": "code",
   "execution_count": 9,
   "metadata": {},
   "outputs": [
    {
     "data": {
      "text/plain": [
       "(0.627494009033492, 2.8106223975907754e-81)"
      ]
     },
     "execution_count": 9,
     "metadata": {},
     "output_type": "execute_result"
    }
   ],
   "source": [
    "pearsonr(bikesharing_data['temp'],\n",
    "         bikesharing_data['cnt'])"
   ]
  },
  {
   "cell_type": "code",
   "execution_count": 10,
   "metadata": {},
   "outputs": [
    {
     "data": {
      "text/plain": [
       "SpearmanrResult(correlation=0.6220344732276183, pvalue=1.674554642260452e-79)"
      ]
     },
     "execution_count": 10,
     "metadata": {},
     "output_type": "execute_result"
    }
   ],
   "source": [
    "spearmanr(bikesharing_data['temp'],\n",
    "          bikesharing_data['cnt'])"
   ]
  },
  {
   "cell_type": "code",
   "execution_count": 12,
   "metadata": {},
   "outputs": [
    {
     "data": {
      "image/png": "[encoded data removed]",
      "text/plain": [
       "<Figure size 864x576 with 1 Axes>"
      ]
     },
     "metadata": {
      "needs_background": "light"
     },
     "output_type": "display_data"
    }
   ],
   "source": [
    "plt.figure(figsize=(12,8))\n",
    "plt.scatter(bikesharing_data['temp'],\n",
    "           bikesharing_data['cnt'], color='m')\n",
    "plt.title('Bike Sharing Daily')\n",
    "plt.xlabel('Temperature')\n",
    "plt.ylabel('Count')\n",
    "\n",
    "plt.show()"
   ]
  },
  {
   "cell_type": "code",
   "execution_count": 14,
   "metadata": {},
   "outputs": [
    {
     "data": {
      "text/plain": [
       "array([[1.        , 0.30390712],\n",
       "       [0.30390712, 1.        ]])"
      ]
     },
     "execution_count": 14,
     "metadata": {},
     "output_type": "execute_result"
    }
   ],
   "source": [
    "np.corrcoef(bikesharing_data['workingday'],\n",
    "           bikesharing_data['registered'])"
   ]
  },
  {
   "cell_type": "code",
   "execution_count": 15,
   "metadata": {},
   "outputs": [
    {
     "data": {
      "text/plain": [
       "0.3039071170459171"
      ]
     },
     "execution_count": 15,
     "metadata": {},
     "output_type": "execute_result"
    }
   ],
   "source": [
    "bikesharing_data['workingday'].corr(bikesharing_data['registered'])"
   ]
  },
  {
   "cell_type": "code",
   "execution_count": 16,
   "metadata": {},
   "outputs": [
    {
     "data": {
      "text/plain": [
       "(0.30390711704591733, 4.3815710893705565e-17)"
      ]
     },
     "execution_count": 16,
     "metadata": {},
     "output_type": "execute_result"
    }
   ],
   "source": [
    "pearsonr(bikesharing_data['workingday'],\n",
    "         bikesharing_data['registered'])"
   ]
  },
  {
   "cell_type": "code",
   "execution_count": 17,
   "metadata": {},
   "outputs": [
    {
     "data": {
      "text/plain": [
       "SpearmanrResult(correlation=0.3058584564758216, pvalue=2.6994118569378256e-17)"
      ]
     },
     "execution_count": 17,
     "metadata": {},
     "output_type": "execute_result"
    }
   ],
   "source": [
    "spearmanr(bikesharing_data['workingday'],\n",
    "          bikesharing_data['registered'])"
   ]
  },
  {
   "cell_type": "code",
   "execution_count": 18,
   "metadata": {},
   "outputs": [
    {
     "data": {
      "image/png": "[encoded data removed]",
      "text/plain": [
       "<Figure size 864x576 with 1 Axes>"
      ]
     },
     "metadata": {
      "needs_background": "light"
     },
     "output_type": "display_data"
    }
   ],
   "source": [
    "ax = plt.subplot()\n",
    "bikesharing_data.groupby('workingday').max()['registered'].plot(kind='bar',\n",
    "                                                                figsize=(12,8),\n",
    "                                                                ax = ax,\n",
    "                                                                color = ['r', 'c'])\n",
    "\n",
    "plt.title('Registered Users')\n",
    "plt.ylabel('Count of Registered Users')\n",
    "\n",
    "plt.show()"
   ]
  },
  {
   "cell_type": "code",
   "execution_count": 19,
   "metadata": {},
   "outputs": [
    {
     "data": {
      "image/png": "[encoded data removed]",
      "text/plain": [
       "<Figure size 864x576 with 1 Axes>"
      ]
     },
     "metadata": {
      "needs_background": "light"
     },
     "output_type": "display_data"
    }
   ],
   "source": [
    "ax = plt.subplot()\n",
    "bikesharing_data.groupby('workingday').max()['casual'].plot(kind='bar',\n",
    "                                                            figsize=(12,8),\n",
    "                                                            ax = ax,\n",
    "                                                            color=['b', 'y'])\n",
    "plt.title('Casual Users')\n",
    "plt.ylabel('COunt of Casual Users')\n",
    "\n",
    "plt.show();"
   ]
  },
  {
   "cell_type": "code",
   "execution_count": 20,
   "metadata": {},
   "outputs": [
    {
     "data": {
      "text/plain": [
       "array([[ 1.      , -0.234545],\n",
       "       [-0.234545,  1.      ]])"
      ]
     },
     "execution_count": 20,
     "metadata": {},
     "output_type": "execute_result"
    }
   ],
   "source": [
    "np.corrcoef(bikesharing_data['windspeed'],\n",
    "            bikesharing_data['cnt'])"
   ]
  },
  {
   "cell_type": "code",
   "execution_count": 21,
   "metadata": {},
   "outputs": [
    {
     "data": {
      "text/plain": [
       "-0.23454499742167"
      ]
     },
     "execution_count": 21,
     "metadata": {},
     "output_type": "execute_result"
    }
   ],
   "source": [
    "bikesharing_data['windspeed'].corr(bikesharing_data['cnt'])"
   ]
  },
  {
   "cell_type": "code",
   "execution_count": 22,
   "metadata": {},
   "outputs": [
    {
     "data": {
      "text/plain": [
       "(-0.23454499742167, 1.3599586778869642e-10)"
      ]
     },
     "execution_count": 22,
     "metadata": {},
     "output_type": "execute_result"
    }
   ],
   "source": [
    "pearsonr(bikesharing_data['windspeed'],\n",
    "         bikesharing_data['cnt'])"
   ]
  },
  {
   "cell_type": "code",
   "execution_count": 23,
   "metadata": {},
   "outputs": [
    {
     "data": {
      "text/plain": [
       "SpearmanrResult(correlation=-0.21719701027268842, pvalue=2.9694272867448183e-09)"
      ]
     },
     "execution_count": 23,
     "metadata": {},
     "output_type": "execute_result"
    }
   ],
   "source": [
    "spearmanr(bikesharing_data['windspeed'],\n",
    "          bikesharing_data['cnt'])"
   ]
  },
  {
   "cell_type": "code",
   "execution_count": 24,
   "metadata": {},
   "outputs": [
    {
     "data": {
      "image/png": "[encoded data removed]",
      "text/plain": [
       "<Figure size 864x576 with 1 Axes>"
      ]
     },
     "metadata": {
      "needs_background": "light"
     },
     "output_type": "display_data"
    }
   ],
   "source": [
    "plt.figure(figsize=(12,8))\n",
    "plt.scatter(bikesharing_data['windspeed'],\n",
    "            bikesharing_data['cnt'], color='limegreen')\n",
    "plt.title('Bike Sharing Daily')\n",
    "plt.ylabel('Count')\n",
    "plt.xlabel('Windspeed')\n",
    "\n",
    "plt.show();"
   ]
  },
  {
   "cell_type": "code",
   "execution_count": 25,
   "metadata": {},
   "outputs": [
    {
     "data": {
      "text/html": [
       "<div>\n",
       "<style scoped>\n",
       "    .dataframe tbody tr th:only-of-type {\n",
       "        vertical-align: middle;\n",
       "    }\n",
       "\n",
       "    .dataframe tbody tr th {\n",
       "        vertical-align: top;\n",
       "    }\n",
       "\n",
       "    .dataframe thead th {\n",
       "        text-align: right;\n",
       "    }\n",
       "</style>\n",
       "<table border=\"1\" class=\"dataframe\">\n",
       "  <thead>\n",
       "    <tr style=\"text-align: right;\">\n",
       "      <th></th>\n",
       "      <th>season</th>\n",
       "      <th>yr</th>\n",
       "      <th>mnth</th>\n",
       "      <th>holiday</th>\n",
       "      <th>weekday</th>\n",
       "      <th>workingday</th>\n",
       "      <th>weathersit</th>\n",
       "      <th>temp</th>\n",
       "      <th>atemp</th>\n",
       "      <th>hum</th>\n",
       "      <th>windspeed</th>\n",
       "      <th>casual</th>\n",
       "      <th>registered</th>\n",
       "      <th>cnt</th>\n",
       "    </tr>\n",
       "  </thead>\n",
       "  <tbody>\n",
       "    <tr>\n",
       "      <th>season</th>\n",
       "      <td>1.000000</td>\n",
       "      <td>-0.001844</td>\n",
       "      <td>0.831440</td>\n",
       "      <td>-0.010537</td>\n",
       "      <td>-0.003080</td>\n",
       "      <td>0.012485</td>\n",
       "      <td>0.019211</td>\n",
       "      <td>0.334315</td>\n",
       "      <td>0.342876</td>\n",
       "      <td>0.205445</td>\n",
       "      <td>-0.229046</td>\n",
       "      <td>0.210399</td>\n",
       "      <td>0.411623</td>\n",
       "      <td>0.406100</td>\n",
       "    </tr>\n",
       "    <tr>\n",
       "      <th>yr</th>\n",
       "      <td>-0.001844</td>\n",
       "      <td>1.000000</td>\n",
       "      <td>-0.001792</td>\n",
       "      <td>0.007954</td>\n",
       "      <td>-0.005461</td>\n",
       "      <td>-0.002013</td>\n",
       "      <td>-0.048727</td>\n",
       "      <td>0.047604</td>\n",
       "      <td>0.046106</td>\n",
       "      <td>-0.110651</td>\n",
       "      <td>-0.011817</td>\n",
       "      <td>0.248546</td>\n",
       "      <td>0.594248</td>\n",
       "      <td>0.566710</td>\n",
       "    </tr>\n",
       "    <tr>\n",
       "      <th>mnth</th>\n",
       "      <td>0.831440</td>\n",
       "      <td>-0.001792</td>\n",
       "      <td>1.000000</td>\n",
       "      <td>0.019191</td>\n",
       "      <td>0.009509</td>\n",
       "      <td>-0.005901</td>\n",
       "      <td>0.043528</td>\n",
       "      <td>0.220205</td>\n",
       "      <td>0.227459</td>\n",
       "      <td>0.222204</td>\n",
       "      <td>-0.207502</td>\n",
       "      <td>0.123006</td>\n",
       "      <td>0.293488</td>\n",
       "      <td>0.279977</td>\n",
       "    </tr>\n",
       "    <tr>\n",
       "      <th>holiday</th>\n",
       "      <td>-0.010537</td>\n",
       "      <td>0.007954</td>\n",
       "      <td>0.019191</td>\n",
       "      <td>1.000000</td>\n",
       "      <td>-0.101960</td>\n",
       "      <td>-0.253023</td>\n",
       "      <td>-0.034627</td>\n",
       "      <td>-0.028556</td>\n",
       "      <td>-0.032507</td>\n",
       "      <td>-0.015937</td>\n",
       "      <td>0.006292</td>\n",
       "      <td>0.054274</td>\n",
       "      <td>-0.108745</td>\n",
       "      <td>-0.068348</td>\n",
       "    </tr>\n",
       "    <tr>\n",
       "      <th>weekday</th>\n",
       "      <td>-0.003080</td>\n",
       "      <td>-0.005461</td>\n",
       "      <td>0.009509</td>\n",
       "      <td>-0.101960</td>\n",
       "      <td>1.000000</td>\n",
       "      <td>0.035790</td>\n",
       "      <td>0.031087</td>\n",
       "      <td>-0.000170</td>\n",
       "      <td>-0.007537</td>\n",
       "      <td>-0.052232</td>\n",
       "      <td>0.014282</td>\n",
       "      <td>0.059923</td>\n",
       "      <td>0.057367</td>\n",
       "      <td>0.067443</td>\n",
       "    </tr>\n",
       "    <tr>\n",
       "      <th>workingday</th>\n",
       "      <td>0.012485</td>\n",
       "      <td>-0.002013</td>\n",
       "      <td>-0.005901</td>\n",
       "      <td>-0.253023</td>\n",
       "      <td>0.035790</td>\n",
       "      <td>1.000000</td>\n",
       "      <td>0.061200</td>\n",
       "      <td>0.052660</td>\n",
       "      <td>0.052182</td>\n",
       "      <td>0.024327</td>\n",
       "      <td>-0.018796</td>\n",
       "      <td>-0.518044</td>\n",
       "      <td>0.303907</td>\n",
       "      <td>0.061156</td>\n",
       "    </tr>\n",
       "    <tr>\n",
       "      <th>weathersit</th>\n",
       "      <td>0.019211</td>\n",
       "      <td>-0.048727</td>\n",
       "      <td>0.043528</td>\n",
       "      <td>-0.034627</td>\n",
       "      <td>0.031087</td>\n",
       "      <td>0.061200</td>\n",
       "      <td>1.000000</td>\n",
       "      <td>-0.120602</td>\n",
       "      <td>-0.121583</td>\n",
       "      <td>0.591045</td>\n",
       "      <td>0.039511</td>\n",
       "      <td>-0.247353</td>\n",
       "      <td>-0.260388</td>\n",
       "      <td>-0.297391</td>\n",
       "    </tr>\n",
       "    <tr>\n",
       "      <th>temp</th>\n",
       "      <td>0.334315</td>\n",
       "      <td>0.047604</td>\n",
       "      <td>0.220205</td>\n",
       "      <td>-0.028556</td>\n",
       "      <td>-0.000170</td>\n",
       "      <td>0.052660</td>\n",
       "      <td>-0.120602</td>\n",
       "      <td>1.000000</td>\n",
       "      <td>0.991702</td>\n",
       "      <td>0.126963</td>\n",
       "      <td>-0.157944</td>\n",
       "      <td>0.543285</td>\n",
       "      <td>0.540012</td>\n",
       "      <td>0.627494</td>\n",
       "    </tr>\n",
       "    <tr>\n",
       "      <th>atemp</th>\n",
       "      <td>0.342876</td>\n",
       "      <td>0.046106</td>\n",
       "      <td>0.227459</td>\n",
       "      <td>-0.032507</td>\n",
       "      <td>-0.007537</td>\n",
       "      <td>0.052182</td>\n",
       "      <td>-0.121583</td>\n",
       "      <td>0.991702</td>\n",
       "      <td>1.000000</td>\n",
       "      <td>0.139988</td>\n",
       "      <td>-0.183643</td>\n",
       "      <td>0.543864</td>\n",
       "      <td>0.544192</td>\n",
       "      <td>0.631066</td>\n",
       "    </tr>\n",
       "    <tr>\n",
       "      <th>hum</th>\n",
       "      <td>0.205445</td>\n",
       "      <td>-0.110651</td>\n",
       "      <td>0.222204</td>\n",
       "      <td>-0.015937</td>\n",
       "      <td>-0.052232</td>\n",
       "      <td>0.024327</td>\n",
       "      <td>0.591045</td>\n",
       "      <td>0.126963</td>\n",
       "      <td>0.139988</td>\n",
       "      <td>1.000000</td>\n",
       "      <td>-0.248489</td>\n",
       "      <td>-0.077008</td>\n",
       "      <td>-0.091089</td>\n",
       "      <td>-0.100659</td>\n",
       "    </tr>\n",
       "    <tr>\n",
       "      <th>windspeed</th>\n",
       "      <td>-0.229046</td>\n",
       "      <td>-0.011817</td>\n",
       "      <td>-0.207502</td>\n",
       "      <td>0.006292</td>\n",
       "      <td>0.014282</td>\n",
       "      <td>-0.018796</td>\n",
       "      <td>0.039511</td>\n",
       "      <td>-0.157944</td>\n",
       "      <td>-0.183643</td>\n",
       "      <td>-0.248489</td>\n",
       "      <td>1.000000</td>\n",
       "      <td>-0.167613</td>\n",
       "      <td>-0.217449</td>\n",
       "      <td>-0.234545</td>\n",
       "    </tr>\n",
       "    <tr>\n",
       "      <th>casual</th>\n",
       "      <td>0.210399</td>\n",
       "      <td>0.248546</td>\n",
       "      <td>0.123006</td>\n",
       "      <td>0.054274</td>\n",
       "      <td>0.059923</td>\n",
       "      <td>-0.518044</td>\n",
       "      <td>-0.247353</td>\n",
       "      <td>0.543285</td>\n",
       "      <td>0.543864</td>\n",
       "      <td>-0.077008</td>\n",
       "      <td>-0.167613</td>\n",
       "      <td>1.000000</td>\n",
       "      <td>0.395282</td>\n",
       "      <td>0.672804</td>\n",
       "    </tr>\n",
       "    <tr>\n",
       "      <th>registered</th>\n",
       "      <td>0.411623</td>\n",
       "      <td>0.594248</td>\n",
       "      <td>0.293488</td>\n",
       "      <td>-0.108745</td>\n",
       "      <td>0.057367</td>\n",
       "      <td>0.303907</td>\n",
       "      <td>-0.260388</td>\n",
       "      <td>0.540012</td>\n",
       "      <td>0.544192</td>\n",
       "      <td>-0.091089</td>\n",
       "      <td>-0.217449</td>\n",
       "      <td>0.395282</td>\n",
       "      <td>1.000000</td>\n",
       "      <td>0.945517</td>\n",
       "    </tr>\n",
       "    <tr>\n",
       "      <th>cnt</th>\n",
       "      <td>0.406100</td>\n",
       "      <td>0.566710</td>\n",
       "      <td>0.279977</td>\n",
       "      <td>-0.068348</td>\n",
       "      <td>0.067443</td>\n",
       "      <td>0.061156</td>\n",
       "      <td>-0.297391</td>\n",
       "      <td>0.627494</td>\n",
       "      <td>0.631066</td>\n",
       "      <td>-0.100659</td>\n",
       "      <td>-0.234545</td>\n",
       "      <td>0.672804</td>\n",
       "      <td>0.945517</td>\n",
       "      <td>1.000000</td>\n",
       "    </tr>\n",
       "  </tbody>\n",
       "</table>\n",
       "</div>"
      ],
      "text/plain": [
       "              season        yr      mnth   holiday   weekday  workingday  \\\n",
       "season      1.000000 -0.001844  0.831440 -0.010537 -0.003080    0.012485   \n",
       "yr         -0.001844  1.000000 -0.001792  0.007954 -0.005461   -0.002013   \n",
       "mnth        0.831440 -0.001792  1.000000  0.019191  0.009509   -0.005901   \n",
       "holiday    -0.010537  0.007954  0.019191  1.000000 -0.101960   -0.253023   \n",
       "weekday    -0.003080 -0.005461  0.009509 -0.101960  1.000000    0.035790   \n",
       "workingday  0.012485 -0.002013 -0.005901 -0.253023  0.035790    1.000000   \n",
       "weathersit  0.019211 -0.048727  0.043528 -0.034627  0.031087    0.061200   \n",
       "temp        0.334315  0.047604  0.220205 -0.028556 -0.000170    0.052660   \n",
       "atemp       0.342876  0.046106  0.227459 -0.032507 -0.007537    0.052182   \n",
       "hum         0.205445 -0.110651  0.222204 -0.015937 -0.052232    0.024327   \n",
       "windspeed  -0.229046 -0.011817 -0.207502  0.006292  0.014282   -0.018796   \n",
       "casual      0.210399  0.248546  0.123006  0.054274  0.059923   -0.518044   \n",
       "registered  0.411623  0.594248  0.293488 -0.108745  0.057367    0.303907   \n",
       "cnt         0.406100  0.566710  0.279977 -0.068348  0.067443    0.061156   \n",
       "\n",
       "            weathersit      temp     atemp       hum  windspeed    casual  \\\n",
       "season        0.019211  0.334315  0.342876  0.205445  -0.229046  0.210399   \n",
       "yr           -0.048727  0.047604  0.046106 -0.110651  -0.011817  0.248546   \n",
       "mnth          0.043528  0.220205  0.227459  0.222204  -0.207502  0.123006   \n",
       "holiday      -0.034627 -0.028556 -0.032507 -0.015937   0.006292  0.054274   \n",
       "weekday       0.031087 -0.000170 -0.007537 -0.052232   0.014282  0.059923   \n",
       "workingday    0.061200  0.052660  0.052182  0.024327  -0.018796 -0.518044   \n",
       "weathersit    1.000000 -0.120602 -0.121583  0.591045   0.039511 -0.247353   \n",
       "temp         -0.120602  1.000000  0.991702  0.126963  -0.157944  0.543285   \n",
       "atemp        -0.121583  0.991702  1.000000  0.139988  -0.183643  0.543864   \n",
       "hum           0.591045  0.126963  0.139988  1.000000  -0.248489 -0.077008   \n",
       "windspeed     0.039511 -0.157944 -0.183643 -0.248489   1.000000 -0.167613   \n",
       "casual       -0.247353  0.543285  0.543864 -0.077008  -0.167613  1.000000   \n",
       "registered   -0.260388  0.540012  0.544192 -0.091089  -0.217449  0.395282   \n",
       "cnt          -0.297391  0.627494  0.631066 -0.100659  -0.234545  0.672804   \n",
       "\n",
       "            registered       cnt  \n",
       "season        0.411623  0.406100  \n",
       "yr            0.594248  0.566710  \n",
       "mnth          0.293488  0.279977  \n",
       "holiday      -0.108745 -0.068348  \n",
       "weekday       0.057367  0.067443  \n",
       "workingday    0.303907  0.061156  \n",
       "weathersit   -0.260388 -0.297391  \n",
       "temp          0.540012  0.627494  \n",
       "atemp         0.544192  0.631066  \n",
       "hum          -0.091089 -0.100659  \n",
       "windspeed    -0.217449 -0.234545  \n",
       "casual        0.395282  0.672804  \n",
       "registered    1.000000  0.945517  \n",
       "cnt           0.945517  1.000000  "
      ]
     },
     "execution_count": 25,
     "metadata": {},
     "output_type": "execute_result"
    }
   ],
   "source": [
    "bikesharing_data.corr()"
   ]
  },
  {
   "cell_type": "code",
   "execution_count": 29,
   "metadata": {},
   "outputs": [
    {
     "data": {
      "image/png": "[encoded data removed]",
      "text/plain": [
       "<Figure size 864x576 with 2 Axes>"
      ]
     },
     "metadata": {
      "needs_background": "light"
     },
     "output_type": "display_data"
    }
   ],
   "source": [
    "plt.figure(figsize=(12,8))\n",
    "plt.matshow(bikesharing_data.corr(),\n",
    "           fignum=False,\n",
    "           aspect='equal')\n",
    "columns = len(bikesharing_data.columns)\n",
    "plt.xticks(range(columns), bikesharing_data.columns)\n",
    "plt.yticks(range(columns), bikesharing_data.columns)\n",
    "\n",
    "plt.colorbar()\n",
    "plt.xticks(rotation=90)\n",
    "plt.title('Correlations', y=1.2)\n",
    "\n",
    "plt.show();"
   ]
  },
  {
   "cell_type": "markdown",
   "metadata": {},
   "source": [
    "## How to draw pearson correlation graph ##"
   ]
  },
  {
   "cell_type": "code",
   "execution_count": 30,
   "metadata": {},
   "outputs": [],
   "source": [
    "target = bikesharing_data['cnt']\n",
    "features = bikesharing_data.drop(['casual', 'registered', 'cnt', 'dteday'], axis =1)"
   ]
  },
  {
   "cell_type": "code",
   "execution_count": 32,
   "metadata": {},
   "outputs": [
    {
     "name": "stdout",
     "output_type": "stream",
     "text": [
      "Collecting yellowbrick\n",
      "  Downloading yellowbrick-1.1-py3-none-any.whl (263 kB)\n",
      "\u001b[K     |████████████████████████████████| 263 kB 1.3 MB/s eta 0:00:01\n",
      "\u001b[?25hRequirement already satisfied: scikit-learn>=0.20 in /Users/mavice/opt/anaconda3/lib/python3.7/site-packages (from yellowbrick) (0.22.1)\n",
      "Requirement already satisfied: cycler>=0.10.0 in /Users/mavice/opt/anaconda3/lib/python3.7/site-packages (from yellowbrick) (0.10.0)\n",
      "Requirement already satisfied: scipy>=1.0.0 in /Users/mavice/opt/anaconda3/lib/python3.7/site-packages (from yellowbrick) (1.4.1)\n",
      "Requirement already satisfied: matplotlib!=3.0.0,>=2.0.2 in /Users/mavice/opt/anaconda3/lib/python3.7/site-packages (from yellowbrick) (3.1.3)\n",
      "Requirement already satisfied: numpy>=1.13.0 in /Users/mavice/opt/anaconda3/lib/python3.7/site-packages (from yellowbrick) (1.18.1)\n",
      "Requirement already satisfied: joblib>=0.11 in /Users/mavice/opt/anaconda3/lib/python3.7/site-packages (from scikit-learn>=0.20->yellowbrick) (0.15.1)\n",
      "Requirement already satisfied: six in /Users/mavice/opt/anaconda3/lib/python3.7/site-packages (from cycler>=0.10.0->yellowbrick) (1.15.0)\n",
      "Requirement already satisfied: kiwisolver>=1.0.1 in /Users/mavice/opt/anaconda3/lib/python3.7/site-packages (from matplotlib!=3.0.0,>=2.0.2->yellowbrick) (1.2.0)\n",
      "Requirement already satisfied: python-dateutil>=2.1 in /Users/mavice/opt/anaconda3/lib/python3.7/site-packages (from matplotlib!=3.0.0,>=2.0.2->yellowbrick) (2.8.1)\n",
      "Requirement already satisfied: pyparsing!=2.0.4,!=2.1.2,!=2.1.6,>=2.0.1 in /Users/mavice/opt/anaconda3/lib/python3.7/site-packages (from matplotlib!=3.0.0,>=2.0.2->yellowbrick) (2.4.7)\n",
      "Installing collected packages: yellowbrick\n",
      "Successfully installed yellowbrick-1.1\n"
     ]
    }
   ],
   "source": [
    "!pip install yellowbrick"
   ]
  },
  {
   "cell_type": "code",
   "execution_count": 34,
   "metadata": {},
   "outputs": [
    {
     "data": {
      "text/plain": [
       "['season',\n",
       " 'yr',\n",
       " 'mnth',\n",
       " 'holiday',\n",
       " 'weekday',\n",
       " 'workingday',\n",
       " 'weathersit',\n",
       " 'temp',\n",
       " 'atemp',\n",
       " 'hum',\n",
       " 'windspeed']"
      ]
     },
     "execution_count": 34,
     "metadata": {},
     "output_type": "execute_result"
    }
   ],
   "source": [
    "from yellowbrick.target import FeatureCorrelation\n",
    "feature_names = list(features.columns)\n",
    "feature_names"
   ]
  },
  {
   "cell_type": "code",
   "execution_count": 36,
   "metadata": {},
   "outputs": [
    {
     "data": {
      "image/png": "[encoded data removed]",
      "text/plain": [
       "<Figure size 576x396 with 1 Axes>"
      ]
     },
     "metadata": {},
     "output_type": "display_data"
    }
   ],
   "source": [
    "visualizer = FeatureCorrelation(labels = feature_names)\n",
    "visualizer.fit(features, target)\n",
    "visualizer.poof();"
   ]
  },
  {
   "cell_type": "code",
   "execution_count": null,
   "metadata": {},
   "outputs": [],
   "source": []
  }
 ],
 "metadata": {
  "kernelspec": {
   "display_name": "Python 3",
   "language": "python",
   "name": "python3"
  },
  "language_info": {
   "codemirror_mode": {
    "name": "ipython",
    "version": 3
   },
   "file_extension": ".py",
   "mimetype": "text/x-python",
   "name": "python",
   "nbconvert_exporter": "python",
   "pygments_lexer": "ipython3",
   "version": "3.7.6"
  }
 },
 "nbformat": 4,
 "nbformat_minor": 4
}
