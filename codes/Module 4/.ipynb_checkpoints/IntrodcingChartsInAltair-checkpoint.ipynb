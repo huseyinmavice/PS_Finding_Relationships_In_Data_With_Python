{
 "cells": [
  {
   "cell_type": "code",
   "execution_count": 1,
   "metadata": {},
   "outputs": [
    {
     "name": "stdout",
     "output_type": "stream",
     "text": [
      "Requirement already up-to-date: altair in /Users/mavice/opt/anaconda3/lib/python3.7/site-packages (4.1.0)\n",
      "Requirement already satisfied, skipping upgrade: entrypoints in /Users/mavice/opt/anaconda3/lib/python3.7/site-packages (from altair) (0.3)\n",
      "Requirement already satisfied, skipping upgrade: jsonschema in /Users/mavice/opt/anaconda3/lib/python3.7/site-packages (from altair) (3.2.0)\n",
      "Requirement already satisfied, skipping upgrade: pandas>=0.18 in /Users/mavice/opt/anaconda3/lib/python3.7/site-packages (from altair) (1.0.3)\n",
      "Requirement already satisfied, skipping upgrade: numpy in /Users/mavice/opt/anaconda3/lib/python3.7/site-packages (from altair) (1.18.1)\n",
      "Requirement already satisfied, skipping upgrade: jinja2 in /Users/mavice/opt/anaconda3/lib/python3.7/site-packages (from altair) (2.11.2)\n",
      "Requirement already satisfied, skipping upgrade: toolz in /Users/mavice/opt/anaconda3/lib/python3.7/site-packages (from altair) (0.10.0)\n",
      "Requirement already satisfied, skipping upgrade: pyrsistent>=0.14.0 in /Users/mavice/opt/anaconda3/lib/python3.7/site-packages (from jsonschema->altair) (0.16.0)\n",
      "Requirement already satisfied, skipping upgrade: six>=1.11.0 in /Users/mavice/opt/anaconda3/lib/python3.7/site-packages (from jsonschema->altair) (1.15.0)\n",
      "Requirement already satisfied, skipping upgrade: setuptools in /Users/mavice/opt/anaconda3/lib/python3.7/site-packages (from jsonschema->altair) (47.1.1.post20200604)\n",
      "Requirement already satisfied, skipping upgrade: importlib-metadata; python_version < \"3.8\" in /Users/mavice/opt/anaconda3/lib/python3.7/site-packages (from jsonschema->altair) (1.6.0)\n",
      "Requirement already satisfied, skipping upgrade: attrs>=17.4.0 in /Users/mavice/opt/anaconda3/lib/python3.7/site-packages (from jsonschema->altair) (19.3.0)\n",
      "Requirement already satisfied, skipping upgrade: python-dateutil>=2.6.1 in /Users/mavice/opt/anaconda3/lib/python3.7/site-packages (from pandas>=0.18->altair) (2.8.1)\n",
      "Requirement already satisfied, skipping upgrade: pytz>=2017.2 in /Users/mavice/opt/anaconda3/lib/python3.7/site-packages (from pandas>=0.18->altair) (2020.1)\n",
      "Requirement already satisfied, skipping upgrade: MarkupSafe>=0.23 in /Users/mavice/opt/anaconda3/lib/python3.7/site-packages (from jinja2->altair) (1.1.1)\n",
      "Requirement already satisfied, skipping upgrade: zipp>=0.5 in /Users/mavice/opt/anaconda3/lib/python3.7/site-packages (from importlib-metadata; python_version < \"3.8\"->jsonschema->altair) (3.1.0)\n"
     ]
    }
   ],
   "source": [
    "!pip install -U altair"
   ]
  },
  {
   "cell_type": "code",
   "execution_count": 2,
   "metadata": {},
   "outputs": [
    {
     "name": "stdout",
     "output_type": "stream",
     "text": [
      "Requirement already up-to-date: altair in /Users/mavice/opt/anaconda3/lib/python3.7/site-packages (4.1.0)\n",
      "Collecting vega_datasets\n",
      "  Downloading vega_datasets-0.8.0-py2.py3-none-any.whl (210 kB)\n",
      "\u001b[K     |████████████████████████████████| 210 kB 376 kB/s eta 0:00:01\n",
      "\u001b[?25hRequirement already up-to-date: notebook in /Users/mavice/opt/anaconda3/lib/python3.7/site-packages (6.0.3)\n",
      "Collecting vega\n",
      "  Downloading vega-3.4.0-py3-none-any.whl (1.3 MB)\n",
      "\u001b[K     |████████████████████████████████| 1.3 MB 40.8 MB/s eta 0:00:01\n",
      "\u001b[?25hRequirement already satisfied, skipping upgrade: toolz in /Users/mavice/opt/anaconda3/lib/python3.7/site-packages (from altair) (0.10.0)\n",
      "Requirement already satisfied, skipping upgrade: numpy in /Users/mavice/opt/anaconda3/lib/python3.7/site-packages (from altair) (1.18.1)\n",
      "Requirement already satisfied, skipping upgrade: jsonschema in /Users/mavice/opt/anaconda3/lib/python3.7/site-packages (from altair) (3.2.0)\n",
      "Requirement already satisfied, skipping upgrade: entrypoints in /Users/mavice/opt/anaconda3/lib/python3.7/site-packages (from altair) (0.3)\n",
      "Requirement already satisfied, skipping upgrade: jinja2 in /Users/mavice/opt/anaconda3/lib/python3.7/site-packages (from altair) (2.11.2)\n",
      "Requirement already satisfied, skipping upgrade: pandas>=0.18 in /Users/mavice/opt/anaconda3/lib/python3.7/site-packages (from altair) (1.0.3)\n",
      "Requirement already satisfied, skipping upgrade: ipython-genutils in /Users/mavice/opt/anaconda3/lib/python3.7/site-packages (from notebook) (0.2.0)\n",
      "Requirement already satisfied, skipping upgrade: pyzmq>=17 in /Users/mavice/opt/anaconda3/lib/python3.7/site-packages (from notebook) (18.1.1)\n",
      "Requirement already satisfied, skipping upgrade: traitlets>=4.2.1 in /Users/mavice/opt/anaconda3/lib/python3.7/site-packages (from notebook) (4.3.3)\n",
      "Requirement already satisfied, skipping upgrade: tornado>=5.0 in /Users/mavice/opt/anaconda3/lib/python3.7/site-packages (from notebook) (6.0.4)\n",
      "Requirement already satisfied, skipping upgrade: jupyter-client>=5.3.4 in /Users/mavice/opt/anaconda3/lib/python3.7/site-packages (from notebook) (5.3.4)\n",
      "Requirement already satisfied, skipping upgrade: nbformat in /Users/mavice/opt/anaconda3/lib/python3.7/site-packages (from notebook) (5.0.6)\n",
      "Requirement already satisfied, skipping upgrade: prometheus-client in /Users/mavice/opt/anaconda3/lib/python3.7/site-packages (from notebook) (0.7.1)\n",
      "Requirement already satisfied, skipping upgrade: terminado>=0.8.1 in /Users/mavice/opt/anaconda3/lib/python3.7/site-packages (from notebook) (0.8.3)\n",
      "Requirement already satisfied, skipping upgrade: nbconvert in /Users/mavice/opt/anaconda3/lib/python3.7/site-packages (from notebook) (5.6.1)\n",
      "Requirement already satisfied, skipping upgrade: jupyter-core>=4.6.1 in /Users/mavice/opt/anaconda3/lib/python3.7/site-packages (from notebook) (4.6.3)\n",
      "Requirement already satisfied, skipping upgrade: ipykernel in /Users/mavice/opt/anaconda3/lib/python3.7/site-packages (from notebook) (5.1.4)\n",
      "Requirement already satisfied, skipping upgrade: Send2Trash in /Users/mavice/opt/anaconda3/lib/python3.7/site-packages (from notebook) (1.5.0)\n",
      "Requirement already satisfied, skipping upgrade: jupyter<2.0.0,>=1.0.0 in /Users/mavice/opt/anaconda3/lib/python3.7/site-packages (from vega) (1.0.0)\n",
      "Requirement already satisfied, skipping upgrade: attrs>=17.4.0 in /Users/mavice/opt/anaconda3/lib/python3.7/site-packages (from jsonschema->altair) (19.3.0)\n",
      "Requirement already satisfied, skipping upgrade: six>=1.11.0 in /Users/mavice/opt/anaconda3/lib/python3.7/site-packages (from jsonschema->altair) (1.15.0)\n",
      "Requirement already satisfied, skipping upgrade: setuptools in /Users/mavice/opt/anaconda3/lib/python3.7/site-packages (from jsonschema->altair) (47.1.1.post20200604)\n",
      "Requirement already satisfied, skipping upgrade: pyrsistent>=0.14.0 in /Users/mavice/opt/anaconda3/lib/python3.7/site-packages (from jsonschema->altair) (0.16.0)\n",
      "Requirement already satisfied, skipping upgrade: importlib-metadata; python_version < \"3.8\" in /Users/mavice/opt/anaconda3/lib/python3.7/site-packages (from jsonschema->altair) (1.6.0)\n",
      "Requirement already satisfied, skipping upgrade: MarkupSafe>=0.23 in /Users/mavice/opt/anaconda3/lib/python3.7/site-packages (from jinja2->altair) (1.1.1)\n",
      "Requirement already satisfied, skipping upgrade: python-dateutil>=2.6.1 in /Users/mavice/opt/anaconda3/lib/python3.7/site-packages (from pandas>=0.18->altair) (2.8.1)\n",
      "Requirement already satisfied, skipping upgrade: pytz>=2017.2 in /Users/mavice/opt/anaconda3/lib/python3.7/site-packages (from pandas>=0.18->altair) (2020.1)\n",
      "Requirement already satisfied, skipping upgrade: decorator in /Users/mavice/opt/anaconda3/lib/python3.7/site-packages (from traitlets>=4.2.1->notebook) (4.4.2)\n",
      "Requirement already satisfied, skipping upgrade: mistune<2,>=0.8.1 in /Users/mavice/opt/anaconda3/lib/python3.7/site-packages (from nbconvert->notebook) (0.8.4)\n",
      "Requirement already satisfied, skipping upgrade: testpath in /Users/mavice/opt/anaconda3/lib/python3.7/site-packages (from nbconvert->notebook) (0.4.4)\n",
      "Requirement already satisfied, skipping upgrade: pygments in /Users/mavice/opt/anaconda3/lib/python3.7/site-packages (from nbconvert->notebook) (2.6.1)\n",
      "Requirement already satisfied, skipping upgrade: pandocfilters>=1.4.1 in /Users/mavice/opt/anaconda3/lib/python3.7/site-packages (from nbconvert->notebook) (1.4.2)\n",
      "Requirement already satisfied, skipping upgrade: defusedxml in /Users/mavice/opt/anaconda3/lib/python3.7/site-packages (from nbconvert->notebook) (0.6.0)\n",
      "Requirement already satisfied, skipping upgrade: bleach in /Users/mavice/opt/anaconda3/lib/python3.7/site-packages (from nbconvert->notebook) (3.1.4)\n",
      "Requirement already satisfied, skipping upgrade: ipython>=5.0.0 in /Users/mavice/opt/anaconda3/lib/python3.7/site-packages (from ipykernel->notebook) (7.13.0)\n",
      "Requirement already satisfied, skipping upgrade: appnope; platform_system == \"Darwin\" in /Users/mavice/opt/anaconda3/lib/python3.7/site-packages (from ipykernel->notebook) (0.1.0)\n",
      "Requirement already satisfied, skipping upgrade: ipywidgets in /Users/mavice/opt/anaconda3/lib/python3.7/site-packages (from jupyter<2.0.0,>=1.0.0->vega) (7.5.1)\n",
      "Requirement already satisfied, skipping upgrade: qtconsole in /Users/mavice/opt/anaconda3/lib/python3.7/site-packages (from jupyter<2.0.0,>=1.0.0->vega) (4.6.0)\n",
      "Requirement already satisfied, skipping upgrade: jupyter-console in /Users/mavice/opt/anaconda3/lib/python3.7/site-packages (from jupyter<2.0.0,>=1.0.0->vega) (6.1.0)\n",
      "Requirement already satisfied, skipping upgrade: zipp>=0.5 in /Users/mavice/opt/anaconda3/lib/python3.7/site-packages (from importlib-metadata; python_version < \"3.8\"->jsonschema->altair) (3.1.0)\n",
      "Requirement already satisfied, skipping upgrade: webencodings in /Users/mavice/opt/anaconda3/lib/python3.7/site-packages (from bleach->nbconvert->notebook) (0.5.1)\n",
      "Requirement already satisfied, skipping upgrade: jedi>=0.10 in /Users/mavice/opt/anaconda3/lib/python3.7/site-packages (from ipython>=5.0.0->ipykernel->notebook) (0.14.1)\n",
      "Requirement already satisfied, skipping upgrade: backcall in /Users/mavice/opt/anaconda3/lib/python3.7/site-packages (from ipython>=5.0.0->ipykernel->notebook) (0.1.0)\n",
      "Requirement already satisfied, skipping upgrade: pexpect; sys_platform != \"win32\" in /Users/mavice/opt/anaconda3/lib/python3.7/site-packages (from ipython>=5.0.0->ipykernel->notebook) (4.8.0)\n",
      "Requirement already satisfied, skipping upgrade: prompt-toolkit!=3.0.0,!=3.0.1,<3.1.0,>=2.0.0 in /Users/mavice/opt/anaconda3/lib/python3.7/site-packages (from ipython>=5.0.0->ipykernel->notebook) (3.0.5)\n",
      "Requirement already satisfied, skipping upgrade: pickleshare in /Users/mavice/opt/anaconda3/lib/python3.7/site-packages (from ipython>=5.0.0->ipykernel->notebook) (0.7.5)\n",
      "Requirement already satisfied, skipping upgrade: widgetsnbextension~=3.5.0 in /Users/mavice/opt/anaconda3/lib/python3.7/site-packages (from ipywidgets->jupyter<2.0.0,>=1.0.0->vega) (3.5.1)\n",
      "Requirement already satisfied, skipping upgrade: parso>=0.5.0 in /Users/mavice/opt/anaconda3/lib/python3.7/site-packages (from jedi>=0.10->ipython>=5.0.0->ipykernel->notebook) (0.5.2)\n",
      "Requirement already satisfied, skipping upgrade: ptyprocess>=0.5 in /Users/mavice/opt/anaconda3/lib/python3.7/site-packages (from pexpect; sys_platform != \"win32\"->ipython>=5.0.0->ipykernel->notebook) (0.6.0)\n",
      "Requirement already satisfied, skipping upgrade: wcwidth in /Users/mavice/opt/anaconda3/lib/python3.7/site-packages (from prompt-toolkit!=3.0.0,!=3.0.1,<3.1.0,>=2.0.0->ipython>=5.0.0->ipykernel->notebook) (0.1.9)\n",
      "Installing collected packages: vega-datasets, vega\n",
      "Successfully installed vega-3.4.0 vega-datasets-0.8.0\n"
     ]
    }
   ],
   "source": [
    "!pip install -U altair vega_datasets notebook vega"
   ]
  },
  {
   "cell_type": "code",
   "execution_count": 3,
   "metadata": {},
   "outputs": [],
   "source": [
    "import pandas as pd\n",
    "import altair as alt\n",
    "\n",
    "import vega\n",
    "from vega_datasets import data"
   ]
  },
  {
   "cell_type": "code",
   "execution_count": 4,
   "metadata": {},
   "outputs": [
    {
     "data": {
      "text/plain": [
       "RendererRegistry.enable('notebook')"
      ]
     },
     "execution_count": 4,
     "metadata": {},
     "output_type": "execute_result"
    }
   ],
   "source": [
    "alt.renderers.enable('notebook')"
   ]
  },
  {
   "cell_type": "code",
   "execution_count": 5,
   "metadata": {},
   "outputs": [
    {
     "name": "stdout",
     "output_type": "stream",
     "text": [
      "['7zip', 'airports', 'annual-precip', 'anscombe', 'barley', 'birdstrikes', 'budget', 'budgets', 'burtin', 'cars', 'climate', 'co2-concentration', 'countries', 'crimea', 'disasters', 'driving', 'earthquakes', 'ffox', 'flare', 'flare-dependencies', 'flights-10k', 'flights-200k', 'flights-20k', 'flights-2k', 'flights-3m', 'flights-5k', 'flights-airport', 'gapminder', 'gapminder-health-income', 'gimp', 'github', 'graticule', 'income', 'iowa-electricity', 'iris', 'jobs', 'la-riots', 'londonBoroughs', 'londonCentroids', 'londonTubeLines', 'lookup_groups', 'lookup_people', 'miserables', 'monarchs', 'movies', 'normal-2d', 'obesity', 'ohlc', 'points', 'population', 'population_engineers_hurricanes', 'seattle-temps', 'seattle-weather', 'sf-temps', 'sp500', 'stocks', 'udistrict', 'unemployment', 'unemployment-across-industries', 'uniform-2d', 'us-10m', 'us-employment', 'us-state-capitals', 'volcano', 'weather', 'weball26', 'wheat', 'windvectors', 'world-110m', 'zipcodes']\n"
     ]
    }
   ],
   "source": [
    "print(data.list_datasets())"
   ]
  },
  {
   "cell_type": "code",
   "execution_count": 6,
   "metadata": {},
   "outputs": [
    {
     "data": {
      "text/plain": [
       "'https://vega.github.io/vega-datasets/data/unemployment-across-industries.json'"
      ]
     },
     "execution_count": 6,
     "metadata": {},
     "output_type": "execute_result"
    }
   ],
   "source": [
    "data.unemployment_across_industries.url"
   ]
  },
  {
   "cell_type": "code",
   "execution_count": 7,
   "metadata": {},
   "outputs": [
    {
     "data": {
      "text/html": [
       "<div>\n",
       "<style scoped>\n",
       "    .dataframe tbody tr th:only-of-type {\n",
       "        vertical-align: middle;\n",
       "    }\n",
       "\n",
       "    .dataframe tbody tr th {\n",
       "        vertical-align: top;\n",
       "    }\n",
       "\n",
       "    .dataframe thead th {\n",
       "        text-align: right;\n",
       "    }\n",
       "</style>\n",
       "<table border=\"1\" class=\"dataframe\">\n",
       "  <thead>\n",
       "    <tr style=\"text-align: right;\">\n",
       "      <th></th>\n",
       "      <th>series</th>\n",
       "      <th>year</th>\n",
       "      <th>month</th>\n",
       "      <th>count</th>\n",
       "      <th>rate</th>\n",
       "      <th>date</th>\n",
       "    </tr>\n",
       "  </thead>\n",
       "  <tbody>\n",
       "    <tr>\n",
       "      <th>0</th>\n",
       "      <td>Government</td>\n",
       "      <td>2000</td>\n",
       "      <td>1</td>\n",
       "      <td>430</td>\n",
       "      <td>2.1</td>\n",
       "      <td>2000-01-01 08:00:00+00:00</td>\n",
       "    </tr>\n",
       "    <tr>\n",
       "      <th>1</th>\n",
       "      <td>Government</td>\n",
       "      <td>2000</td>\n",
       "      <td>2</td>\n",
       "      <td>409</td>\n",
       "      <td>2.0</td>\n",
       "      <td>2000-02-01 08:00:00+00:00</td>\n",
       "    </tr>\n",
       "    <tr>\n",
       "      <th>2</th>\n",
       "      <td>Government</td>\n",
       "      <td>2000</td>\n",
       "      <td>3</td>\n",
       "      <td>311</td>\n",
       "      <td>1.5</td>\n",
       "      <td>2000-03-01 08:00:00+00:00</td>\n",
       "    </tr>\n",
       "    <tr>\n",
       "      <th>3</th>\n",
       "      <td>Government</td>\n",
       "      <td>2000</td>\n",
       "      <td>4</td>\n",
       "      <td>269</td>\n",
       "      <td>1.3</td>\n",
       "      <td>2000-04-01 08:00:00+00:00</td>\n",
       "    </tr>\n",
       "    <tr>\n",
       "      <th>4</th>\n",
       "      <td>Government</td>\n",
       "      <td>2000</td>\n",
       "      <td>5</td>\n",
       "      <td>370</td>\n",
       "      <td>1.9</td>\n",
       "      <td>2000-05-01 07:00:00+00:00</td>\n",
       "    </tr>\n",
       "  </tbody>\n",
       "</table>\n",
       "</div>"
      ],
      "text/plain": [
       "       series  year  month  count  rate                      date\n",
       "0  Government  2000      1    430   2.1 2000-01-01 08:00:00+00:00\n",
       "1  Government  2000      2    409   2.0 2000-02-01 08:00:00+00:00\n",
       "2  Government  2000      3    311   1.5 2000-03-01 08:00:00+00:00\n",
       "3  Government  2000      4    269   1.3 2000-04-01 08:00:00+00:00\n",
       "4  Government  2000      5    370   1.9 2000-05-01 07:00:00+00:00"
      ]
     },
     "execution_count": 7,
     "metadata": {},
     "output_type": "execute_result"
    }
   ],
   "source": [
    "unemployment_data = data.unemployment_across_industries()\n",
    "unemployment_data.head(5)"
   ]
  },
  {
   "cell_type": "code",
   "execution_count": 11,
   "metadata": {},
   "outputs": [
    {
     "name": "stdout",
     "output_type": "stream",
     "text": [
      "Collecting altair_viewer\n",
      "  Downloading altair_viewer-0.3.0-py3-none-any.whl (562 kB)\n",
      "\u001b[K     |████████████████████████████████| 562 kB 1.1 MB/s eta 0:00:01\n",
      "\u001b[?25hRequirement already satisfied: altair in /Users/mavice/opt/anaconda3/lib/python3.7/site-packages (from altair_viewer) (4.1.0)\n",
      "Collecting altair-data-server>=0.4.0\n",
      "  Downloading altair_data_server-0.4.1-py3-none-any.whl (12 kB)\n",
      "Requirement already satisfied: numpy in /Users/mavice/opt/anaconda3/lib/python3.7/site-packages (from altair->altair_viewer) (1.18.1)\n",
      "Requirement already satisfied: pandas>=0.18 in /Users/mavice/opt/anaconda3/lib/python3.7/site-packages (from altair->altair_viewer) (1.0.3)\n",
      "Requirement already satisfied: jinja2 in /Users/mavice/opt/anaconda3/lib/python3.7/site-packages (from altair->altair_viewer) (2.11.2)\n",
      "Requirement already satisfied: toolz in /Users/mavice/opt/anaconda3/lib/python3.7/site-packages (from altair->altair_viewer) (0.10.0)\n",
      "Requirement already satisfied: entrypoints in /Users/mavice/opt/anaconda3/lib/python3.7/site-packages (from altair->altair_viewer) (0.3)\n",
      "Requirement already satisfied: jsonschema in /Users/mavice/opt/anaconda3/lib/python3.7/site-packages (from altair->altair_viewer) (3.2.0)\n",
      "Requirement already satisfied: tornado in /Users/mavice/opt/anaconda3/lib/python3.7/site-packages (from altair-data-server>=0.4.0->altair_viewer) (6.0.4)\n",
      "Collecting portpicker\n",
      "  Downloading portpicker-1.3.1.tar.gz (18 kB)\n",
      "Requirement already satisfied: pytz>=2017.2 in /Users/mavice/opt/anaconda3/lib/python3.7/site-packages (from pandas>=0.18->altair->altair_viewer) (2020.1)\n",
      "Requirement already satisfied: python-dateutil>=2.6.1 in /Users/mavice/opt/anaconda3/lib/python3.7/site-packages (from pandas>=0.18->altair->altair_viewer) (2.8.1)\n",
      "Requirement already satisfied: MarkupSafe>=0.23 in /Users/mavice/opt/anaconda3/lib/python3.7/site-packages (from jinja2->altair->altair_viewer) (1.1.1)\n",
      "Requirement already satisfied: importlib-metadata; python_version < \"3.8\" in /Users/mavice/opt/anaconda3/lib/python3.7/site-packages (from jsonschema->altair->altair_viewer) (1.6.0)\n",
      "Requirement already satisfied: six>=1.11.0 in /Users/mavice/opt/anaconda3/lib/python3.7/site-packages (from jsonschema->altair->altair_viewer) (1.15.0)\n",
      "Requirement already satisfied: setuptools in /Users/mavice/opt/anaconda3/lib/python3.7/site-packages (from jsonschema->altair->altair_viewer) (47.1.1.post20200604)\n",
      "Requirement already satisfied: attrs>=17.4.0 in /Users/mavice/opt/anaconda3/lib/python3.7/site-packages (from jsonschema->altair->altair_viewer) (19.3.0)\n",
      "Requirement already satisfied: pyrsistent>=0.14.0 in /Users/mavice/opt/anaconda3/lib/python3.7/site-packages (from jsonschema->altair->altair_viewer) (0.16.0)\n",
      "Requirement already satisfied: zipp>=0.5 in /Users/mavice/opt/anaconda3/lib/python3.7/site-packages (from importlib-metadata; python_version < \"3.8\"->jsonschema->altair->altair_viewer) (3.1.0)\n",
      "Building wheels for collected packages: portpicker\n",
      "  Building wheel for portpicker (setup.py) ... \u001b[?25ldone\n",
      "\u001b[?25h  Created wheel for portpicker: filename=portpicker-1.3.1-py3-none-any.whl size=13665 sha256=66049b17b56e8cdae029c96e822268e0111e3b931628a311ffdc0667ee3b5506\n",
      "  Stored in directory: /Users/mavice/Library/Caches/pip/wheels/8a/9c/69/e55ffd12c6edd2bb70853ebe4a540d37cb8373ab0b2f632b61\n",
      "Successfully built portpicker\n",
      "Installing collected packages: portpicker, altair-data-server, altair-viewer\n",
      "Successfully installed altair-data-server-0.4.1 altair-viewer-0.3.0 portpicker-1.3.1\n"
     ]
    }
   ],
   "source": [
    "!pip install altair_viewer"
   ]
  },
  {
   "cell_type": "code",
   "execution_count": 13,
   "metadata": {},
   "outputs": [
    {
     "data": {
      "text/plain": [
       "RendererRegistry.enable('altair_viewer')"
      ]
     },
     "execution_count": 13,
     "metadata": {},
     "output_type": "execute_result"
    }
   ],
   "source": [
    "alt.renderers.enable('altair_viewer')"
   ]
  },
  {
   "cell_type": "code",
   "execution_count": 14,
   "metadata": {},
   "outputs": [
    {
     "data": {
      "text/html": [
       "Displaying chart at <a href='http://localhost:18957/' target='_blank'>http://localhost:18957/</a>"
      ],
      "text/plain": [
       "Displaying chart at http://localhost:18957/"
      ]
     },
     "execution_count": 14,
     "metadata": {},
     "output_type": "execute_result"
    }
   ],
   "source": [
    "alt.Chart(unemployment_data, height=400, width=600).mark_point().encode(x='date',y='count').properties(title='US Unemployment')"
   ]
  },
  {
   "cell_type": "code",
   "execution_count": 15,
   "metadata": {},
   "outputs": [
    {
     "data": {
      "text/html": [
       "Displaying chart at <a href='http://localhost:18957/' target='_blank'>http://localhost:18957/</a>"
      ],
      "text/plain": [
       "Displaying chart at http://localhost:18957/"
      ]
     },
     "execution_count": 15,
     "metadata": {},
     "output_type": "execute_result"
    }
   ],
   "source": [
    "alt.Chart(unemployment_data, height=400, width=600).mark_point().encode(x='date',y='count',color='series').properties(title='US Unemployment')"
   ]
  },
  {
   "cell_type": "code",
   "execution_count": null,
   "metadata": {},
   "outputs": [],
   "source": []
  }
 ],
 "metadata": {
  "kernelspec": {
   "display_name": "Python 3",
   "language": "python",
   "name": "python3"
  },
  "language_info": {
   "codemirror_mode": {
    "name": "ipython",
    "version": 3
   },
   "file_extension": ".py",
   "mimetype": "text/x-python",
   "name": "python",
   "nbconvert_exporter": "python",
   "pygments_lexer": "ipython3",
   "version": "3.7.6"
  }
 },
 "nbformat": 4,
 "nbformat_minor": 4
}
